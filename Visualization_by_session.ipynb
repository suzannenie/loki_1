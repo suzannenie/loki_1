{
 "cells": [
  {
   "cell_type": "markdown",
   "id": "a94c0143",
   "metadata": {},
   "source": [
    "![image](visualisations/sub-790/coronal/0.png)\n",
    "![image](visualisations/sub-790/coronal/1.png)\n",
    "![image](visualisations/sub-790/coronal/2.png)\n",
    "![image](visualisations/sub-790/coronal/3.png)\n",
    "![image](visualisations/sub-790/coronal/4.png)\n",
    "![image](visualisations/sub-790/coronal/5.png)\n",
    "![image](visualisations/sub-790/coronal/6.png)\n",
    "![image](visualisations/sub-790/coronal/7.png)\n",
    "![image](visualisations/sub-790/coronal/8.png)\n",
    "![image](visualisations/sub-790/coronal/9.png)\n",
    "![image](visualisations/sub-790/coronal/10.png)\n",
    "![image](visualisations/sub-790/coronal/11.png)\n",
    "![image](visualisations/sub-790/coronal/12.png)\n",
    "![image](visualisations/sub-790/coronal/13.png)\n",
    "![image](visualisations/sub-790/coronal/14.png)\n",
    "![image](visualisations/sub-790/coronal/15.png)\n",
    "![image](visualisations/sub-790/coronal/16.png)\n",
    "![image](visualisations/sub-790/coronal/17.png)"
   ]
  },
  {
   "cell_type": "markdown",
   "id": "654b79f7",
   "metadata": {},
   "source": [
    "![image](visualisations/sub-811/coronal/0.png)\n",
    "![image](visualisations/sub-811/coronal/1.png)\n",
    "![image](visualisations/sub-811/coronal/2.png)\n",
    "![image](visualisations/sub-811/coronal/3.png)\n",
    "![image](visualisations/sub-811/coronal/4.png)\n",
    "![image](visualisations/sub-811/coronal/5.png)\n",
    "![image](visualisations/sub-811/coronal/6.png)\n",
    "![image](visualisations/sub-811/coronal/7.png)\n",
    "![image](visualisations/sub-811/coronal/8.png)\n",
    "![image](visualisations/sub-811/coronal/9.png)\n",
    "![image](visualisations/sub-811/coronal/10.png)\n",
    "![image](visualisations/sub-811/coronal/11.png)\n",
    "![image](visualisations/sub-811/coronal/12.png)\n",
    "![image](visualisations/sub-811/coronal/13.png)\n",
    "![image](visualisations/sub-811/coronal/14.png)\n",
    "![image](visualisations/sub-811/coronal/15.png)\n",
    "![image](visualisations/sub-811/coronal/16.png)\n",
    "![image](visualisations/sub-811/coronal/17.png)"
   ]
  },
  {
   "cell_type": "markdown",
   "id": "a28e9618",
   "metadata": {},
   "source": []
  },
  {
   "cell_type": "code",
   "execution_count": 5,
   "id": "300f9278",
   "metadata": {},
   "outputs": [
    {
     "name": "stdout",
     "output_type": "stream",
     "text": [
      "![image](visualisations/sub-811/coronal/0.png)\n",
      "![image](visualisations/sub-811/coronal/1.png)\n",
      "![image](visualisations/sub-811/coronal/2.png)\n",
      "![image](visualisations/sub-811/coronal/3.png)\n",
      "![image](visualisations/sub-811/coronal/4.png)\n",
      "![image](visualisations/sub-811/coronal/5.png)\n",
      "![image](visualisations/sub-811/coronal/6.png)\n",
      "![image](visualisations/sub-811/coronal/7.png)\n",
      "![image](visualisations/sub-811/coronal/8.png)\n",
      "![image](visualisations/sub-811/coronal/9.png)\n",
      "![image](visualisations/sub-811/coronal/10.png)\n",
      "![image](visualisations/sub-811/coronal/11.png)\n",
      "![image](visualisations/sub-811/coronal/12.png)\n",
      "![image](visualisations/sub-811/coronal/13.png)\n",
      "![image](visualisations/sub-811/coronal/14.png)\n",
      "![image](visualisations/sub-811/coronal/15.png)\n",
      "![image](visualisations/sub-811/coronal/16.png)\n",
      "![image](visualisations/sub-811/coronal/17.png)\n"
     ]
    }
   ],
   "source": [
    "for i in range(18):\n",
    "    print(\"![image](visualisations/sub-811/coronal/{}.png\".format(i) + \")\")"
   ]
  },
  {
   "cell_type": "code",
   "execution_count": null,
   "id": "8e21de12",
   "metadata": {},
   "outputs": [],
   "source": []
  }
 ],
 "metadata": {
  "kernelspec": {
   "display_name": "Python 3 (ipykernel)",
   "language": "python",
   "name": "python3"
  },
  "language_info": {
   "codemirror_mode": {
    "name": "ipython",
    "version": 3
   },
   "file_extension": ".py",
   "mimetype": "text/x-python",
   "name": "python",
   "nbconvert_exporter": "python",
   "pygments_lexer": "ipython3",
   "version": "3.9.1"
  }
 },
 "nbformat": 4,
 "nbformat_minor": 5
}
